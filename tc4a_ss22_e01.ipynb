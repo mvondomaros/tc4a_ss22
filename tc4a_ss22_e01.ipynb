{
 "cells": [
  {
   "cell_type": "markdown",
   "id": "1d54840d-e17c-4bc1-a7dc-9c75fecd52db",
   "metadata": {},
   "source": [
    "# Exercise 1: Core Algorithms\n",
    "\n",
    "Welcome, to our first exercise!\n",
    "\n",
    "Today, we will explore some **properties of MD integration algorithms**, by simulating the stretching vibration of hydrogen fluoride.\n",
    "You will be asked to **fill in some blanks in Python** source code. But don't worry, **no previous programming knowledge** is required. If anything is unclear, **ask** questions!\n",
    "\n",
    "## Learning Goals\n",
    "\n",
    "At the end of this exercise you should be able to\n",
    "- describe the time evolution of the potential, kinetic, and total energy for simple diatomic molecules,\n",
    "- judge if and MD integration has been performed correctly, based on three different criteria for energy conservation,\n",
    "- discuss the impact of replacing a harmonic potential with an anharmonic one on trajectories and spectra of a diatomic molecule,\n",
    "- sketch a simple stochastic thermostatting algorithm.\n",
    "\n",
    "## Python/Numpy/Jupyter Crash Course\n",
    "\n",
    "\n",
    "### Starting JupyterLab\n",
    "\n",
    "**In the computer lab:**\n",
    "- Open a terminal emulator (*Konsole*).\n",
    "- Change into the course directory: `cd TC4aSS22`\n",
    "- Activate the Python environment: `conda activate tc4ass22`\n",
    "- Start JupyterLab: `jupyter lab`\n",
    "- Choose the file *tc4a_ss22_e01.ipynb* in the file browser on the left.\n",
    "\n",
    "**At home, on UNIX-like platforms:**\n",
    "- Download the file `*tc4a_ss22_e01.ipynb*` through ILIAS or from [github](https://github.com/mvondomaros/tc4a_ss22) and use your favorite Python environment to start JupyterLab: `jupyter lab`\n",
    "- Choose the file *tc4a_ss22_e01.ipynb* in the file browser on the left.\n",
    "\n",
    "or\n",
    "\n",
    "- Download Mambaforge: `wget \"https://github.com/conda-forge/miniforge/releases/latest/download/Mambaforge-$(uname)-$(uname -m).sh\"`\n",
    "- Install Mambaforge: `bash Mambaforge-$(uname)-$(uname -m).sh`\n",
    "- Set up a Python environment: `conda create -n tc4ass22 python numpy scipy matplotlib jupyter-lab`\n",
    "- Activate the Python environment: `conda activate tc4ass22`\n",
    "- Proceed as described above.\n",
    "\n",
    "### Jupyter Notebooks\n",
    "\n",
    "This is a Jupyter **notebook**. It works like other notebooks you might know from software like Mathematica.\n",
    "Jupyter notebooks are organized in **cells**. This text is part of a Markdown cell, which will be used for instructions in this exercise. You don't have to worry about Markdown cells. Jut read the instructions that they contain :)\n",
    "\n",
    "Below is a cell that contains **Python code**. Click on the cell and hit `[Shift] + [Enter]` to execute it. Don't worry about the details of the code."
   ]
  },
  {
   "cell_type": "code",
   "execution_count": null,
   "id": "d4e7486f-af0d-4f5f-9582-e95656052050",
   "metadata": {},
   "outputs": [],
   "source": [
    "import matplotlib.pyplot as plt\n",
    "import numpy as np\n",
    "\n",
    "%config InlineBackend.figure_format = \"svg\"\n",
    "\n",
    "plt.style.use(\"ggplot\")\n",
    "\n",
    "# Generate 100 random data points along 3 dimensions\n",
    "x, y, scale = np.random.randn(3, 100)\n",
    "fig, ax = plt.subplots()\n",
    "\n",
    "# Map each onto a scatterplot we'll create with Matplotlib\n",
    "ax.scatter(x=x, y=y, c=scale, s=np.abs(scale) * 500)\n",
    "ax.set(title=\"Some random data, created with JupyterLab!\")\n",
    "plt.show()"
   ]
  },
  {
   "cell_type": "markdown",
   "id": "7bf6d03d-a66e-4d8e-aa2f-a41ba2a38750",
   "metadata": {},
   "source": [
    "Good job!\n",
    "\n",
    "### Simple Math\n",
    "\n",
    "With Python, you can do **simple math**."
   ]
  },
  {
   "cell_type": "code",
   "execution_count": null,
   "id": "412a0b52-0376-49f8-abb2-fa0b8288a0bf",
   "metadata": {},
   "outputs": [],
   "source": [
    "1 + 2"
   ]
  },
  {
   "cell_type": "code",
   "execution_count": null,
   "id": "5814f8e2-3efd-4773-a4a9-d6baac590991",
   "metadata": {},
   "outputs": [],
   "source": [
    "# Multiplication. This is a comment, by the way.\n",
    "# Anything after # will be ignored by the Python interpreter.\n",
    "2 * 4"
   ]
  },
  {
   "cell_type": "code",
   "execution_count": null,
   "id": "3b217458-0e72-46ec-917e-3bb961f68f60",
   "metadata": {},
   "outputs": [],
   "source": [
    "2 ** 3  # Exponentiation"
   ]
  },
  {
   "cell_type": "markdown",
   "id": "cf6ead8d-219e-434a-9cd4-77e42b0010f2",
   "metadata": {},
   "source": [
    "Lines of code such as the ones above are called **expressions**. Expressions always evaluate to some value. In this case the result of a mathematical **operation**.\n",
    "The value returned by an expression can be assigned to a named **variable**."
   ]
  },
  {
   "cell_type": "code",
   "execution_count": null,
   "id": "815b9c12-2e9e-4bda-a449-f98cfce9acc1",
   "metadata": {},
   "outputs": [],
   "source": [
    "a = 4 * 5"
   ]
  },
  {
   "cell_type": "markdown",
   "id": "52444b97-9419-44b7-94e3-843408664782",
   "metadata": {},
   "source": [
    "Now, `a` has been assigned to the result of `4 * 5`. \n",
    "Assigning an expression to a variable suppresses the interactive output.\n",
    "We can still see the contents of `a`, though, through one of the following ways."
   ]
  },
  {
   "cell_type": "code",
   "execution_count": null,
   "id": "f6874d0f-7e31-4d70-9f94-79bf954f64e5",
   "metadata": {},
   "outputs": [],
   "source": [
    "a  # By simply typing `a` as the last line of code in a cell."
   ]
  },
  {
   "cell_type": "code",
   "execution_count": null,
   "id": "c2fffbc9-eb33-4db1-b198-1a770980baa4",
   "metadata": {},
   "outputs": [],
   "source": [
    "print(a)  # Or by using the print function."
   ]
  },
  {
   "cell_type": "markdown",
   "id": "e78193d7-2b99-4326-a3f1-a4166c83b9ac",
   "metadata": {},
   "source": [
    "### Strings\n",
    "\n",
    "Sometimes we need to work with textual data, or **strings**. One way to define a string in Python is to embrace it in quotation marks."
   ]
  },
  {
   "cell_type": "code",
   "execution_count": null,
   "id": "06b89c50-24a1-4356-9492-0ccbbfccc610",
   "metadata": {},
   "outputs": [],
   "source": [
    "s = \"Hello, World!\"\n",
    "print(s)"
   ]
  },
  {
   "cell_type": "markdown",
   "id": "3973f823-232b-464c-9841-fd3756c442dd",
   "metadata": {},
   "source": [
    "### Functions\n",
    "\n",
    "Now let's define a Python **function**. Python functions are similar to mathematical functions. They take a certain number of **arguments**, and typically **return** one or more values. Some of the functions we define have so-called side effects, like printing or outputting a plot. But let's start simple.\n",
    "\n",
    "The following function is called `f1`. It takes one argument, `x`, and returns the square of it. Notice the indentation. Anything that is indented is part of the function body. This is a strict requirement of the Python programming language."
   ]
  },
  {
   "cell_type": "code",
   "execution_count": null,
   "id": "92d5e741-dfb0-4217-a032-c2e5b8bcf89f",
   "metadata": {},
   "outputs": [],
   "source": [
    "def f1(x):\n",
    "    square = x ** 2\n",
    "    return square"
   ]
  },
  {
   "cell_type": "markdown",
   "id": "ebdc51f1-20de-4457-93f7-1c1b91de5336",
   "metadata": {},
   "source": [
    "You can call this function as follows."
   ]
  },
  {
   "cell_type": "code",
   "execution_count": null,
   "id": "60209ff9-3fff-4282-9642-ac8f62f7002c",
   "metadata": {},
   "outputs": [],
   "source": [
    "f1(20)"
   ]
  },
  {
   "cell_type": "markdown",
   "id": "f8cee6a3-e6df-45b8-8130-d49a91097f54",
   "metadata": {},
   "source": [
    "The result of a function evaluation may also be assigned to a variable."
   ]
  },
  {
   "cell_type": "code",
   "execution_count": null,
   "id": "0fb779f2-5258-42d9-8387-409e4bf1eb21",
   "metadata": {},
   "outputs": [],
   "source": [
    "res = f1(50)\n",
    "res"
   ]
  },
  {
   "cell_type": "markdown",
   "id": "382bdae2-cb61-440e-94ab-5af14caf13d3",
   "metadata": {},
   "source": [
    "Functions may accept multiple arguments. The following function `f2`, for example, accepts two arguments (`x1` and `x2`) and returns the sum. Notice how we save space with this simple function, by putting the expression directly after the `return` keyword instead of creating an intermediary variable."
   ]
  },
  {
   "cell_type": "code",
   "execution_count": null,
   "id": "dbd0f40c-df78-4028-a325-b6c8a8e8626f",
   "metadata": {},
   "outputs": [],
   "source": [
    "def f2(x1, x2):\n",
    "    return x1 + x2"
   ]
  },
  {
   "cell_type": "markdown",
   "id": "d9cff4a6-8cc3-41ae-9e9d-f7a8e8804708",
   "metadata": {},
   "source": [
    "Now, write a function called `harmonic_potential`, which accepts three arguments: a bond length, `r`, an equilibrium bond length, `r0`, and a force constant, `k`. The function `harmonic_potential` should return the value of the harmonic potential\n",
    "$$V_\\mathsf{harmonic}(r) = \\frac{1}{2}k(r-r_0)^2.$$"
   ]
  },
  {
   "cell_type": "code",
   "execution_count": null,
   "id": "6317fff9-bab0-4e1c-a566-865eb8fbac11",
   "metadata": {},
   "outputs": [],
   "source": [
    "# Define a function that computes a harmonic potential. Add the necessary arguments and return value.\n",
    "def harmonic_potential():\n",
    "    return"
   ]
  },
  {
   "cell_type": "markdown",
   "id": "b55be284-0c77-444d-a195-e89dfd05fff6",
   "metadata": {},
   "source": [
    "The following should cell should return `True`, if your implementation of harmonic is correct."
   ]
  },
  {
   "cell_type": "code",
   "execution_count": null,
   "id": "68c2819f-189f-4a28-9e27-3442e815fd62",
   "metadata": {},
   "outputs": [],
   "source": [
    "np.isclose(harmonic_potential(0.11, r0=0.1, k=50000), 2.5)"
   ]
  },
  {
   "cell_type": "markdown",
   "id": "0f601ce3-45f1-4702-a4ce-63a4538a726d",
   "metadata": {},
   "source": [
    "Now, write a function called `harmonic_force`, which accepts the same arguments as `harmonic_potential` but returns the force."
   ]
  },
  {
   "cell_type": "code",
   "execution_count": null,
   "id": "794ad378-ec47-45e9-a9c4-7914d0bfa27f",
   "metadata": {},
   "outputs": [],
   "source": [
    "# Define a function that computes a harmonic force."
   ]
  },
  {
   "cell_type": "markdown",
   "id": "a4a27827-9885-411e-96c5-3c33de9997db",
   "metadata": {},
   "source": [
    "Execute the following cell to check if your implementation is correct."
   ]
  },
  {
   "cell_type": "code",
   "execution_count": null,
   "id": "50c4dfe8-0060-4977-97b2-80209cb8af27",
   "metadata": {},
   "outputs": [],
   "source": [
    "np.isclose(harmonic_force(0.11, r0=0.10, k=50000), -500)"
   ]
  },
  {
   "cell_type": "markdown",
   "id": "669c88e7-5efe-4086-b957-a5528303f1b3",
   "metadata": {},
   "source": [
    "We often need to work with **sequences** of data. There are multiple ways to deal with those in Python. Let's look at the two most important ones for our purposes.\n",
    "\n",
    "The first data type for sequences is called a **list**. This is how we define a list."
   ]
  },
  {
   "cell_type": "code",
   "execution_count": null,
   "id": "d7db4a21-150f-4d58-9c11-a5ef696fd506",
   "metadata": {},
   "outputs": [],
   "source": [
    "l = [1, 2.5, 3]\n",
    "l"
   ]
  },
  {
   "cell_type": "markdown",
   "id": "3fa6f937-c8ce-4f58-b670-14a5b026659f",
   "metadata": {},
   "source": [
    "Lists can contain data with multiple **types**. Our list `l`, for example, contains two **integer** numbers (`1` and `3`) and one **floating point** number (`2.5`)."
   ]
  },
  {
   "cell_type": "markdown",
   "id": "6615a174-b17a-4022-9e37-ba6ba60b0182",
   "metadata": {},
   "source": [
    "You can do a ton of things with lists. They can be extended, for example."
   ]
  },
  {
   "cell_type": "code",
   "execution_count": null,
   "id": "f9d07632-0764-4352-ba1f-c7c7b0b32b7b",
   "metadata": {},
   "outputs": [],
   "source": [
    "l.append(4)\n",
    "l"
   ]
  },
  {
   "cell_type": "markdown",
   "id": "fd61cdd8-8f0f-463a-b99b-5db507391ded",
   "metadata": {},
   "source": [
    "The other data type for sequences is called a numpy **array**. Numpy is the name of **library** providing this data type. It has been **imported** at the beginning of this document using `import numpy as np`. That's why numpy is being referred to as `np` in the code below. Numpy arrays can be constructed from lists as follows."
   ]
  },
  {
   "cell_type": "code",
   "execution_count": null,
   "id": "0d89501b-4d5a-405f-9c89-c388e6e49d9d",
   "metadata": {},
   "outputs": [],
   "source": [
    "a1 = np.array([1, 2, 3.5])\n",
    "a1"
   ]
  },
  {
   "cell_type": "markdown",
   "id": "d610a63a-cd9c-49a8-8700-1c720eab88e2",
   "metadata": {},
   "source": [
    "The most important differences between arrays and lists are:\n",
    "- The size of an array is fixed.\n",
    "- Arrays contain only the same data types. Numpy makes sure that the more general type is chosen. That's why `a1` contains floating only point numbers.\n",
    "\n",
    "What we get in return are much faster operations, both numerical and non-numerical."
   ]
  },
  {
   "cell_type": "markdown",
   "id": "b84454c4-9752-49db-a6c5-73c7f19775fd",
   "metadata": {},
   "source": [
    "Numpy arrays support **arithmetic operations on a per-element basis**."
   ]
  },
  {
   "cell_type": "code",
   "execution_count": null,
   "id": "0659d4c5-2e6d-440e-b514-7a6e2d8eea05",
   "metadata": {},
   "outputs": [],
   "source": [
    "a2 = np.array([4, 5, 7])\n",
    "a1 + a2"
   ]
  },
  {
   "cell_type": "code",
   "execution_count": null,
   "id": "7057ac75-ab1a-431c-ad19-e00206a03861",
   "metadata": {},
   "outputs": [],
   "source": [
    "a1 - a2"
   ]
  },
  {
   "cell_type": "code",
   "execution_count": null,
   "id": "ecee5e9b-3769-4456-ad6f-43ad7b1ea29d",
   "metadata": {},
   "outputs": [],
   "source": [
    "a1 * a2"
   ]
  },
  {
   "cell_type": "markdown",
   "id": "a422af10-4701-4001-b407-3f18801f2c29",
   "metadata": {},
   "source": [
    "This implies that arrays must match in **size**. In our example, each array contained 3 elements. It was a size-3 array. The size of an array can be queried as follows."
   ]
  },
  {
   "cell_type": "code",
   "execution_count": null,
   "id": "a9a4e757-8525-43b2-a6ec-a9300ad27f27",
   "metadata": {},
   "outputs": [],
   "source": [
    "a1.size"
   ]
  },
  {
   "cell_type": "markdown",
   "id": "01e77c1f-e48f-410c-889f-8492e544cd3c",
   "metadata": {},
   "source": [
    "Because numpy arrays support arithmetic operations in a natural way, your definition of `harmonic_potential` should also work with arrays. Let's try this out."
   ]
  },
  {
   "cell_type": "code",
   "execution_count": null,
   "id": "369291c0-f08b-4f7d-b5b5-43f24733228c",
   "metadata": {},
   "outputs": [],
   "source": [
    "bond_lengths = np.array([0.09, 0.1, 0.11])\n",
    "harmonic_potential(r=bond_lengths, r0=0.1, k=50000)"
   ]
  },
  {
   "cell_type": "markdown",
   "id": "22ac56da-4d65-4635-ba00-4a49be466302",
   "metadata": {},
   "source": [
    "Instead of constructing arrays from lists, numpy provides also built-in functions to create arrays. For example, `np.linspace(start, stop, N)` creates an array of size `N`, with values evenly spaced in the interval [`start`, `stop`]"
   ]
  },
  {
   "cell_type": "code",
   "execution_count": null,
   "id": "8b743d1c-4ec1-47cd-adf5-c668a94c979f",
   "metadata": {},
   "outputs": [],
   "source": [
    "r = np.linspace(0.09, 0.11, 25)\n",
    "r"
   ]
  },
  {
   "cell_type": "markdown",
   "id": "a5b43e43-7a84-4817-891e-a5ba6cade0c6",
   "metadata": {},
   "source": [
    "### Plotting"
   ]
  },
  {
   "cell_type": "markdown",
   "id": "8d03f2aa-5b58-42ff-9db2-f2a6f50fc164",
   "metadata": {},
   "source": [
    "Let's do some plotting. We use another library called matplotlib to do so. This library provides a plotting **interface** that has been inspired by matlab. Like numpy, pyplot has been imported at the beginning of this document, this time using `import matplotlib.pyplot as plt`. Any function provided by pyplot is thus prefixed with `plt` in the code that follows."
   ]
  },
  {
   "cell_type": "code",
   "execution_count": null,
   "id": "206fbb47-5633-43e7-b1ae-15b2285b4f3f",
   "metadata": {},
   "outputs": [],
   "source": [
    "# Compute potential energies for each value of r.\n",
    "v = harmonic_potential(r, 0.1, 50000)\n",
    "\n",
    "# Plot v against r.\n",
    "plt.plot(r, v)\n",
    "\n",
    "# Boilerplate. Use this at the end of each cell that plots something.\n",
    "plt.show()"
   ]
  },
  {
   "cell_type": "markdown",
   "id": "0ff63d39-9677-4d32-895d-2646cebad25a",
   "metadata": {},
   "source": [
    "That was easy, wasn't it? We may also plot multiple lines and add labels and legends."
   ]
  },
  {
   "cell_type": "code",
   "execution_count": null,
   "id": "447f0213-e59d-4856-a9d8-afb6724e94b4",
   "metadata": {},
   "outputs": [],
   "source": [
    "# Compute potential energies with a different force constant.\n",
    "v2 = harmonic_potential(r, 0.1, 100000)\n",
    "\n",
    "# Plot v against r. Assign label v.\n",
    "plt.plot(r, v, label=\"v\")\n",
    "# Plot v2 against r. Assign label v2.\n",
    "plt.plot(r, v2, label=\"v2\")\n",
    "# Set \"r / nm\" as x-axis label.\n",
    "plt.xlabel(\"r / nm\")\n",
    "# Set \"V(r) / kJ mol⁻¹\" as y-axis label, but use LaTeX code to make it pretty.\n",
    "# Don't worry if you don't know LaTeX. We won't need it.\n",
    "# If you do know it and want to use it, prefix the string with a lowercase r (r\"...\") to avoid certain surprises.\n",
    "plt.ylabel(r\"$V(r)\\ /\\ \\mathsf{kJ\\,mol^{-1}}$\")\n",
    "# Show the legend.\n",
    "plt.legend()\n",
    "# Boilerplate.\n",
    "plt.show()"
   ]
  },
  {
   "cell_type": "markdown",
   "id": "54d43a48-1d35-42f3-8970-c5dafd790d94",
   "metadata": {},
   "source": [
    "## MD of Diatomic Molecules\n",
    "\n",
    "One of the easiest system that one could simulate is a single diatomic molecule, such as HF.\n",
    "\n",
    "The true potential that describes bond stretching, $V(r)$, can be expanded as a Taylor series around some point $r_0$:\n",
    "\n",
    "$$V(r) = V_0 + V^\\prime(r_0)(r-r_0) + \\frac{1}{2}V^{\\prime\\prime}(r_0)(r-r_0)^2 + \\dots$$\n",
    "\n",
    "If we choose $r_0$ to be the equilibrium bond length, the first derivative $V^\\prime$ vanishes by definition. We may also choose $V_0$ to be 0, without loss of generality. Thus, the potential energy function\n",
    "\n",
    "$$V_\\mathsf{harmonic}(r) = \\frac{1}{2}V^{\\prime\\prime}(r_0)(r-r_0)^2 = \\frac{1}{2}k(r-r_0)^2$$\n",
    "\n",
    "is a good approximation of the true potential for small displacements around the equilibrium bond length. It's called a **harmonic potential** with **force constant** $k$. But you knew that already, of course.\n",
    "\n",
    "For HF, the following values have been computed shamelessly copied from a textbook:\n",
    "\n",
    "$$\n",
    "\\begin{align}\n",
    "r_0 &= 0.09169\\ \\mathsf{nm}\\\\\n",
    "k &= 5.82\\cdot{}10^{5}\\ \\mathsf{kJ\\,mol^{-1}\\,nm^{-2}}\n",
    "\\end{align}\n",
    "$$\n",
    "\n",
    "We also need the masses,\n",
    "\n",
    "$$\n",
    "\\begin{align}\n",
    "m_\\mathsf{H} &= 1.0079\\ \\mathsf{amu}\\\\\n",
    "m_\\mathsf{F} &= 18.9984\\ \\mathsf{amu}\n",
    "\\end{align}\n",
    "$$\n",
    "\n",
    "The nice thing about a harmonic oscillator is that we know the **analytical solution**, so we can **compare** it to our simulation.\n",
    "\n",
    "### Euler's Method\n",
    "\n",
    "Let's use Euler's method to integrate the equations of motion. You will be asked to fill in some blanks below, but before we start, here are some general remarks:\n",
    "\n",
    "- This is a one-dimensional algorithm.\n",
    "- You must use a consistent set of units. We will work with molecular units.\n",
    "- Initial velocities are set to 0, for simplicity's sake.\n",
    "- We choose to save (return) the trajectory of bond lengths and not the positions of all atoms.\n",
    "\n",
    "If anything is unclear, **ask questions**!"
   ]
  },
  {
   "cell_type": "code",
   "execution_count": null,
   "id": "fe62786d-c4ee-483f-882f-20a624e36453",
   "metadata": {},
   "outputs": [],
   "source": [
    "# Let's start by specifying some constants.\n",
    "m = np.array([1.0079, 18.9984])  # The masses.\n",
    "r0 = 0.09169  # The equilibrium bond length.\n",
    "k = 5.82e5  # The force constant."
   ]
  },
  {
   "cell_type": "code",
   "execution_count": null,
   "id": "bebaf4a5-6a9a-432b-8ade-ea89b30513cb",
   "metadata": {},
   "outputs": [],
   "source": [
    "# This is Euler's method for a single harmonic oscillator.\n",
    "def md_ho_euler(\n",
    "    m,  # The masses.\n",
    "    x0,  # The initial positions.\n",
    "    nsteps,  # The number of time steps.\n",
    "    dt,  # The time step.\n",
    "    r0,  # The equilibrium bond length\n",
    "    k,  # The force constant.\n",
    "):\n",
    "    # We use two new numpy built-ins below.\n",
    "    # Make a copy of the initial positions, so that we don't modify them accidentally.\n",
    "    x = np.copy(x0)\n",
    "    # Create an array with the same size as x0 and with all elements set to 0.\n",
    "    # This array will contains the velovities.\n",
    "    v = np.zeros_like(x0)\n",
    "    # This is an empty list. It will be filled with the bond lengths during our simulation.\n",
    "    r_trj = []\n",
    "\n",
    "    # This is a loop over all nsteps time steps.\n",
    "    for i in range(nsteps):\n",
    "        # Compute the bond length.\n",
    "        r = x[1] - x[0]\n",
    "        # Save the bond length in our trajectory list.\n",
    "        r_trj.append(r)\n",
    "        # Compute the force.\n",
    "        # Add the correct arguments.\n",
    "        force = harmonic_force(...)\n",
    "        # Construct an array, f,  containing the forces acting on each of the two atoms. Use Newton's third law.\n",
    "        # Add the correct array elements.\n",
    "        f = np.array([...])\n",
    "        # Here, we make use of two things.\n",
    "        # 1) element-wise operations of numpy arrays\n",
    "        # 2) the increment operator += (x += 1, for example, is equivalent to x = x + 1)\n",
    "        x += v * dt + 0.5 * (f / m) * dt ** 2\n",
    "        v += (f / m) * dt\n",
    "\n",
    "    # Return the trajectory of bond lengths, converted to a numpy array.\n",
    "    return np.array(r_trj)"
   ]
  },
  {
   "cell_type": "markdown",
   "id": "5cf610d0-8e45-43e1-8b1a-1c33b4b40011",
   "metadata": {},
   "source": [
    "Let's try it out!"
   ]
  },
  {
   "cell_type": "code",
   "execution_count": null,
   "id": "e89415fd-06f2-4c58-b22c-02778f02efeb",
   "metadata": {},
   "outputs": [],
   "source": [
    "# Initial positions of H and F set to 0 and 0.11 nm, repsectively.\n",
    "x0 = np.array([0.0, 0.11])\n",
    "# Simulate for 50 steps.\n",
    "nsteps = 50\n",
    "# Set the time step to 0.5 fs.\n",
    "dt = 0.0005\n",
    "\n",
    "# Run the MD. Save the bond length trajectory to trj.\n",
    "trj = md_ho_euler(\n",
    "    m,\n",
    "    x0,\n",
    "    nsteps,\n",
    "    dt,\n",
    "    r0,\n",
    "    k,\n",
    ")\n",
    "\n",
    "# Create an array with nstep elements from 0 to nsteps-1, multiplied by dt.\n",
    "# This array contains the simulation time in ps.\n",
    "t = np.arange(nsteps) * dt\n",
    "\n",
    "# This is the analytical solution. You may skip this code block.\n",
    "mu = m[0] * m[1] / (m[0] + m[1])\n",
    "w = np.sqrt(k / mu)\n",
    "ref = r0 + (x0[1] - x0[0] - r0) * np.cos(w * t)\n",
    "\n",
    "# Now, plot the simulated trajectory.\n",
    "plt.plot(t, trj, label=\"simulation\")\n",
    "# Plot the reference trajectory. Here, we also specified the line color and the opacity.\n",
    "plt.plot(t, ref, color=\"black\", alpha=0.5, label=\"exact\")\n",
    "# Plot a horizontal, dashed line at r0.\n",
    "plt.axhline(r0, color=\"black\", ls=\"dashed\", alpha=0.5, label=r\"$r_0$\")\n",
    "# Set the axis labels.\n",
    "plt.xlabel(r\"$t\\ /\\ \\mathsf{ps}$\")\n",
    "plt.ylabel(r\"$r\\ /\\ \\mathsf{nm}$\")\n",
    "# Show the legend.\n",
    "plt.legend()\n",
    "# Boilerplate.\n",
    "plt.show()"
   ]
  },
  {
   "cell_type": "markdown",
   "id": "30387004-c0e3-4214-9314-461a2b639e34",
   "metadata": {},
   "source": [
    "<div class=\"alert alert-block alert-success\">\n",
    "This doesn't look good. Play around with the time step and the number of integration steps. Is Euler's method any good? <b>Discuss!</b>\n",
    "</div>\n",
    "\n",
    "Feel free to play around with anything else. Just be prepared to fix it if you break it :)\n",
    "\n",
    "### Velocity Verlet Integration"
   ]
  },
  {
   "cell_type": "code",
   "execution_count": null,
   "id": "76d2a0ac-9110-4715-b426-bc5d2a8ee036",
   "metadata": {},
   "outputs": [],
   "source": [
    "# This is the velocity Verlet algorithm for a single harmonic oscillator.\n",
    "def md_ho_vv(\n",
    "    m,  # The masses.\n",
    "    x0,  # The initial positions.\n",
    "    nsteps,  # The number of time steps.\n",
    "    dt,  # The time step.\n",
    "    r0,  # The equilibrium bond length\n",
    "    k,  # The force constant.\n",
    "):\n",
    "    x = np.copy(x0)\n",
    "    v = np.zeros_like(x0)\n",
    "    # Compute the initial bond length and save it to the trajectory..\n",
    "    r = x[1] - x[0]\n",
    "    r_trj = [r]\n",
    "    # Compute the initial forces.\n",
    "    # Fill in the blanks.\n",
    "    force = ...\n",
    "    f = ...\n",
    "\n",
    "    for i in range(nsteps):\n",
    "        # Advance velocities by half a step.\n",
    "        v += 0.5 * (f / m) * dt\n",
    "        # Advance the positions.\n",
    "        x += v * dt\n",
    "        # Compute the new bond length and the new forces.\n",
    "        # Fill in the blanks.\n",
    "        r = ...\n",
    "        r_trj.append(r)\n",
    "        force = ...\n",
    "        f = ...\n",
    "        # Advance velocities to the full step.\n",
    "        v += 0.5 * (f / m) * dt\n",
    "\n",
    "    # Return the trajectory of bond lengths, converted to a numpy array.\n",
    "    return np.array(r_trj)"
   ]
  },
  {
   "cell_type": "code",
   "execution_count": null,
   "id": "a50ea689-b33e-4077-9ad4-0d5f2b30ce9b",
   "metadata": {},
   "outputs": [],
   "source": [
    "# Initial positions of H and F set to 0 and 0.11 nm, repsectively.\n",
    "x0 = np.array([0.0, 0.11])\n",
    "# Simulate for 50 steps.\n",
    "nsteps = 50\n",
    "# Set the time step to 0.5 fs.\n",
    "dt = 0.0005\n",
    "\n",
    "# Run the MD.\n",
    "trj = md_ho_vv(\n",
    "    m,\n",
    "    x0,\n",
    "    nsteps,\n",
    "    dt,\n",
    "    r0,\n",
    "    k,\n",
    ")\n",
    "\n",
    "# Create an array with nstep+1 elements from 0 to nsteps, multiplied by dt.\n",
    "# This array contains the simulation time.\n",
    "t = np.arange(nsteps + 1) * dt\n",
    "\n",
    "# The analytical solution.\n",
    "mu = m[0] * m[1] / (m[0] + m[1])\n",
    "w = np.sqrt(k / mu)\n",
    "ref = r0 + (x0[1] - x0[0] - r0) * np.cos(w * t)\n",
    "\n",
    "plt.plot(t, trj, label=\"simulation\")\n",
    "plt.plot(t, ref, color=\"black\", alpha=0.5, label=\"exact\")\n",
    "plt.axhline(r0, color=\"black\", ls=\"dashed\", alpha=0.5, label=r\"$r_0$\")\n",
    "plt.xlabel(r\"$t\\ /\\ \\mathsf{ps}$\")\n",
    "plt.ylabel(r\"$r\\ /\\ \\mathsf{nm}$\")\n",
    "# Show the legend outside of the plot.\n",
    "plt.legend(bbox_to_anchor=(1.05, 1), loc=\"upper left\", borderaxespad=0.0)\n",
    "plt.show()"
   ]
  },
  {
   "cell_type": "markdown",
   "id": "5ec85864-2453-408e-b51c-33fff08d0402",
   "metadata": {},
   "source": [
    "<div class=\"alert alert-block alert-success\">\n",
    "This looks better. Again, play around with the time step and the number of time steps. Figure out when and how the algorithm breaks. <b>Discuss!</b>\n",
    "</div>\n",
    "\n",
    "### Anharmonicity\n",
    "\n",
    "I admit, simulating a harmonic oscillator is boring. Let's have a look at the **Morse potential**, which captures several important characteristics of the true potential.\n",
    "\n",
    "The Morse potential is defined as follows,\n",
    "\n",
    "$$\n",
    "V_\\mathsf{morse}(r) = D\\left(1-e^{-a\\left(r-r_0\\right)}\\right)^2\\,,\n",
    "$$\n",
    "\n",
    "where $r_0$ is once again the equilibrium bond length, $D$ is the **dissociation energy**, and $a$ controls the width of the potential.\n",
    "\n",
    "The dissociation energy of HF is\n",
    "\n",
    "$$\n",
    "D = 569.87\\ \\mathsf{kJ\\,mol^{-1}}\\,.\n",
    "$$\n",
    "\n",
    "By setting $a = \\sqrt{k/2D}$, a second-order Taylor expansion around the minimum of the Morse potential corresponds to a harmonic potential with force constant $k$.\n",
    "\n",
    "Define a function `morse_potential(r, r0, k, D)` which accepts the given arguments and returns the Morse potential energy. Use the functions `np.sqrt()` to compute the square root and `np.exp()` to compute the exponential."
   ]
  },
  {
   "cell_type": "code",
   "execution_count": null,
   "id": "ac65c415-8e42-4e88-908e-48f66a64a2c4",
   "metadata": {},
   "outputs": [],
   "source": [
    "# Complete the function definition.\n",
    "def morse_potential(r, r0, k, D):\n",
    "    return"
   ]
  },
  {
   "cell_type": "markdown",
   "id": "30992d67-ebff-419f-9cea-a6d04a4d9369",
   "metadata": {},
   "source": [
    "The following should return `True` if your implementation is correct."
   ]
  },
  {
   "cell_type": "code",
   "execution_count": null,
   "id": "b2b084e7-b219-47f8-95a6-fd5481717cb9",
   "metadata": {},
   "outputs": [],
   "source": [
    "np.isclose(morse_potential(0.11, 0.1, 50000, 500), 2.33029)"
   ]
  },
  {
   "cell_type": "markdown",
   "id": "43ebb008-5fb8-4e8d-ac2b-53ba40605efc",
   "metadata": {},
   "source": [
    "<div class=\"alert alert-block alert-success\">\n",
    "Let's plot the Morse potential along with a harmonic potential. How do they compare at\n",
    "    <ul>\n",
    "        <li>small distances,</li>\n",
    "        <li>large distances,</li>\n",
    "        <li>around the equilibrium bond length?</li>\n",
    "    </ul>\n",
    "<b>Discuss!</b>\n",
    "</div>"
   ]
  },
  {
   "cell_type": "code",
   "execution_count": null,
   "id": "139f5582-471d-465e-81e2-74c1fecb229d",
   "metadata": {},
   "outputs": [],
   "source": [
    "r0 = 0.09169  # The equilibrium bond length.\n",
    "k = 5.82e5  # The force constant.\n",
    "D = 569.87  # The dissociation constant.\n",
    "\n",
    "# Plot the two potentials.\n",
    "r = np.linspace(0.03, 0.35, 100)\n",
    "plt.plot(r, morse_potential(r, r0, k, D), label=\"Morse\")\n",
    "plt.plot(r, harmonic_potential(r, r0, k), label=\"harmonic\")\n",
    "# Set the limits of the y-axis.\n",
    "plt.ylim(-20, 1020)\n",
    "plt.xlabel(\"r / nm\")\n",
    "plt.ylabel(r\"$V(r)\\ /\\ \\mathsf{kJ\\,mol^{-1}}$\")\n",
    "plt.legend()\n",
    "plt.show()"
   ]
  },
  {
   "cell_type": "markdown",
   "id": "7ac1f84a-06fb-45f6-86c2-3c8a3b362c2b",
   "metadata": {},
   "source": [
    "To do MD, we need the force. Implement the following function."
   ]
  },
  {
   "cell_type": "code",
   "execution_count": null,
   "id": "01593330-1c16-4a7a-bdbb-e53b2659b0ae",
   "metadata": {},
   "outputs": [],
   "source": [
    "# Complete the function definition.\n",
    "def morse_force(r, r0, k, D):\n",
    "    return"
   ]
  },
  {
   "cell_type": "markdown",
   "id": "b269955e-74f2-403f-a605-5fb3fee68f74",
   "metadata": {},
   "source": [
    "Verify your implementation."
   ]
  },
  {
   "cell_type": "code",
   "execution_count": null,
   "id": "151a7e07-bdeb-4d9a-aee9-82452f513691",
   "metadata": {},
   "outputs": [],
   "source": [
    "np.isclose(morse_force(0.11, 0.1, 50000, 500), -449.7763)"
   ]
  },
  {
   "cell_type": "markdown",
   "id": "c0145e74-ca0e-45ff-87ff-d6458d69c4f6",
   "metadata": {},
   "source": [
    "We can also plot and compare harmonic and Morse forces."
   ]
  },
  {
   "cell_type": "code",
   "execution_count": null,
   "id": "ca5c3235-dc23-42d3-a9b5-e8c4cd4897f9",
   "metadata": {},
   "outputs": [],
   "source": [
    "plt.plot(r, morse_force(r, r0, k, D), label=\"Morse\")\n",
    "plt.plot(r, harmonic_force(r, r0, k), label=\"harmonic\")\n",
    "plt.xlabel(\"r / nm\")\n",
    "plt.ylabel(r\"$F(r)\\ /\\ \\mathsf{kJ\\,mol^{-1}\\,nm^{-1}}$\")\n",
    "plt.legend()\n",
    "plt.show()"
   ]
  },
  {
   "cell_type": "markdown",
   "id": "44407d6c-e327-4b11-b8a7-4122fec1fbc7",
   "metadata": {},
   "source": [
    "Let's do MD now. Copy and paste the definition of `md_ho_vv` from above and rename it to `md_morse_vv`. Modify the function so that it performs MD on a Morse oscillator."
   ]
  },
  {
   "cell_type": "code",
   "execution_count": null,
   "id": "859d08e1-458f-48f8-9561-10b895d71609",
   "metadata": {},
   "outputs": [],
   "source": [
    "# Insert function defintion below."
   ]
  },
  {
   "cell_type": "markdown",
   "id": "95ad9738-291a-40ab-b103-c35942e87a85",
   "metadata": {},
   "source": [
    "<div class=\"alert alert-block alert-success\">\n",
    "Let's try it out. Compare your results with the exact solution of the corresponding harmonic oscillator.\n",
    "<b>Discuss!</b>\n",
    "</div>\n",
    "\n"
   ]
  },
  {
   "cell_type": "code",
   "execution_count": null,
   "id": "4b67f228-0a5f-4795-86a2-a438689dc507",
   "metadata": {},
   "outputs": [],
   "source": [
    "# Initial positions of H and F set to 0 and 0.11 nm, repsectively.\n",
    "x0 = np.array([0.0, 0.11])\n",
    "# Simulate for 50 steps.\n",
    "nsteps = 50\n",
    "# Set the time step to 0.5 fs.\n",
    "dt = 0.0005\n",
    "\n",
    "trj = md_morse_vv(m, x0, nsteps, dt, r0, k, D)\n",
    "\n",
    "t = np.arange(nsteps + 1) * dt\n",
    "mu = m[0] * m[1] / (m[0] + m[1])\n",
    "w = np.sqrt(k / mu)\n",
    "ref = r0 + (x0[1] - x0[0] - r0) * np.cos(w * t)\n",
    "\n",
    "plt.plot(t, trj, label=\"simulation (Morse potential)\")\n",
    "plt.plot(t, ref, color=\"black\", alpha=0.5, label=\"exact (harmonic potential)\")\n",
    "plt.axhline(r0, color=\"black\", ls=\"dashed\", alpha=0.5, label=r\"$r_0$\")\n",
    "plt.xlabel(r\"$t\\ /\\ \\mathsf{ps}$\")\n",
    "plt.ylabel(r\"$r\\ /\\ \\mathsf{nm}$\")\n",
    "plt.legend(bbox_to_anchor=(1.05, 1), loc=\"upper left\", borderaxespad=0.0)\n",
    "plt.show()"
   ]
  },
  {
   "cell_type": "markdown",
   "id": "2ee66322-2d38-4030-88c2-d64eb0054d96",
   "metadata": {},
   "source": [
    "### Monitoring Energies\n",
    "\n",
    "How can we be sure that our result is **correct**?\n",
    "\n",
    "For a single Morse oscillator, an analytical solution can actually be [found](https://doi.org/10.1119/1.11110). This is typically not the case. Furthermore, the article is protected by a paywall, so let's pretend we don't know the solution.\n",
    "\n",
    "There are several important sanity checks for an MD simulation. First and foremost, look at the trajectory and **make sure that your result does not look unphysical**.\n",
    "\n",
    "A more quantitative sanity check is to look at **energy conservation**. In the following exercise, we will have a closer look at the various types of energies and their time-dependence.\n",
    "\n",
    "Let's start by modifying our velocity Verlet to output energies, as well.\n",
    "\n",
    "In order for a Python function to **return multiple values**, we use the following syntax."
   ]
  },
  {
   "cell_type": "code",
   "execution_count": null,
   "id": "617831f3-6f18-402c-827f-2a3e3727fb05",
   "metadata": {},
   "outputs": [],
   "source": [
    "# A function that returns two values.\n",
    "def sum_and_product(x1, x2):\n",
    "    s = x1 + x2\n",
    "    p = x1 * x2\n",
    "    return s, p\n",
    "\n",
    "\n",
    "# The result of the function call can be assigned to two variables.\n",
    "s, p = sum_and_product(2, 4)\n",
    "print(s)\n",
    "print(p)"
   ]
  },
  {
   "cell_type": "markdown",
   "id": "a6b667d1-6cc8-4b33-a628-95bfaafe416f",
   "metadata": {},
   "source": [
    "The following modified version of `md_morse_vv` computes potential, kinetic, and total energies of the system. Fill in the blanks."
   ]
  },
  {
   "cell_type": "code",
   "execution_count": null,
   "id": "d9035dba-40ed-4886-bad6-1c070664ea8d",
   "metadata": {},
   "outputs": [],
   "source": [
    "def md_morse_vv_energies(\n",
    "    m,  # The masses.\n",
    "    x0,  # The initial positions.\n",
    "    nsteps,  # The number of time steps.\n",
    "    dt,  # The time step.\n",
    "    r0,  # The equilibrium bond length\n",
    "    k,  # The force constant.\n",
    "    D,  # The dissociation energy.\n",
    "):\n",
    "    x = np.copy(x0)\n",
    "    v = np.zeros_like(x0)\n",
    "    r = x[1] - x[0]\n",
    "    r_trj = [r]\n",
    "    force = morse_force(r, r0, k, D)\n",
    "    f = np.array([-force, force])\n",
    "\n",
    "    # Compute the initial potential energy and save it in a list.\n",
    "    # Fill in the blanks.\n",
    "    epot = ...\n",
    "    epot_trj = [epot]\n",
    "\n",
    "    # Compute the initial kinetic energy and save it in a list.\n",
    "    # We use the built-in numpy function np.sum() to sum up all elements of an array.\n",
    "    ekin = np.sum(0.5 * m * v ** 2)\n",
    "    ekin_trj = [ekin]\n",
    "\n",
    "    # Compute the total energy. Fill in the blanks.\n",
    "    etot = ...\n",
    "    etot_trj = [etot]\n",
    "\n",
    "    for i in range(nsteps):\n",
    "        v += 0.5 * (f / m) * dt\n",
    "        x += v * dt\n",
    "        r = x[1] - x[0]\n",
    "        r_trj.append(r)\n",
    "        force = morse_force(r, r0, k, D)\n",
    "        f = np.array([-force, force])\n",
    "        v += 0.5 * (f / m) * dt\n",
    "\n",
    "        # Compute the updated energies.\n",
    "        # Fill in the blanks.\n",
    "        epot = ...\n",
    "        epot_trj.append(epot)\n",
    "        ekin = np.sum(0.5 * m * v ** 2)\n",
    "        ekin_trj.append(ekin)\n",
    "        etot = ...\n",
    "        etot_trj.append(etot)\n",
    "\n",
    "    # Return the trajectories of the bond lengths, as well as of the potential, kinetic, and total energies.\n",
    "    return np.array(r_trj), np.array(epot_trj), np.array(ekin_trj), np.array(etot_trj)"
   ]
  },
  {
   "cell_type": "markdown",
   "id": "053c5130-d1e5-4b07-be6e-9a42e682b434",
   "metadata": {},
   "source": [
    "Let's run the MD, again. We will start by looking at the time-evolution of the total energy, which should be conserved in an **NVE ensemble**."
   ]
  },
  {
   "cell_type": "code",
   "execution_count": null,
   "id": "2f96c61c-5a85-4331-aaa9-d9e47740b06b",
   "metadata": {},
   "outputs": [],
   "source": [
    "x0 = np.array([0.0, 0.11])\n",
    "nsteps = 100\n",
    "dt = 0.0005\n",
    "\n",
    "# Run the MD. Save positions, potential, kinetic, and total energies.\n",
    "trj, epot, ekin, etot = md_morse_vv_energies(m, x0, nsteps, dt, r0, k, D)\n",
    "\n",
    "# Plot the total energy over time.\n",
    "t = np.arange(nsteps + 1) * dt\n",
    "plt.plot(t, etot)\n",
    "plt.xlabel(r\"$t\\ /\\ \\mathsf{ps}$\")\n",
    "plt.ylabel(r\"$E\\ /\\ \\mathsf{kJ\\,mol^{-1}}$\")\n",
    "plt.show()"
   ]
  },
  {
   "cell_type": "markdown",
   "id": "0f1180e9-d73c-4d45-8aeb-e884072c153d",
   "metadata": {},
   "source": [
    "<div class=\"alert alert-block alert-success\">\n",
    "Is this what you were expecting? Feel free to play around with the number of simulation steps, the time step and initial displacements. <b>Discuss!</b>\n",
    "</div>"
   ]
  },
  {
   "cell_type": "markdown",
   "id": "03ba990d-3ea9-416c-b0e3-1349d74acbdd",
   "metadata": {},
   "source": [
    "<div class=\"alert alert-block alert-success\">\n",
    "Let's plot potential, kinetic, and total energy together. Describe and <b>discuss</b>!</div>"
   ]
  },
  {
   "cell_type": "code",
   "execution_count": null,
   "id": "7d5338e3-a543-4fc4-ab92-fe1bdb0829e7",
   "metadata": {},
   "outputs": [],
   "source": [
    "plt.plot(t, etot, label=r\"$E_\\mathsf{tot}$\")\n",
    "plt.plot(t, epot, label=r\"$E_\\mathsf{pot}$\")\n",
    "plt.plot(t, ekin, label=r\"$E_\\mathsf{kin}$\")\n",
    "plt.xlabel(r\"$t\\ /\\ \\mathsf{ps}$\")\n",
    "plt.ylabel(r\"$E\\ /\\ \\mathsf{kJ\\,mol^{-1}}$\")\n",
    "plt.legend(bbox_to_anchor=(1.05, 1), loc=\"upper left\", borderaxespad=0.0)\n",
    "plt.show()"
   ]
  },
  {
   "cell_type": "markdown",
   "id": "753b9369-cad8-4d2a-8079-c2ba153632b5",
   "metadata": {},
   "source": [
    "It turns out that the total energy is never truly conserved in and MD simulation. Trajectories obtained through Verlet integration follow a so-called shadow Hamiltonian, which oscillates around the true Hamiltonian. As a result, **the total energy always fluctuates**.\n",
    "\n",
    "There are three important conditions to verify if the integration was nonetheless correct.\n",
    "\n",
    "#### I) Flucatuations of the total energy should be much smaller than fluctuations of both the potential and the kinetic energy.\n",
    "\n",
    "This can be easily verified by looking at the plot shown above. However, we can also use math to verify it.\n",
    "\n",
    "**Fluctuations** are deviations around the **mean** (or expectation value). For energy fluctuations, we write,\n",
    "\n",
    "$$\n",
    "\\delta{}E(t) = E(t) - \\overline{E}\\,,\n",
    "$$\n",
    "\n",
    "where $\\overline{E}$ is the time-average of the energy,\n",
    "\n",
    "$$\n",
    "\\overline{E} = \\frac{1}{N_t}\\sum_{i=1}^{N_t} E(t_0 + i \\delta{}t)\\,.\n",
    "$$\n",
    "\n",
    "The **ergodic theorem** states that if we have simulated long enough, the time average will be equal to the ensemble average: $\\overline{E} = \\left<E\\right>$.\n",
    "\n",
    "Since we hardly ever simulate long enough, fluctuations are typically defined using the ensemble average,\n",
    "\n",
    "$$\n",
    "\\delta{}E(t) = E(t) - \\left<E\\right>\\,,\n",
    "$$\n",
    "\n",
    "which is why you will find this definition throughout text books. In practice, we always use time averages, though.\n",
    "\n",
    "Numpy has a convenient function to compute the mean:"
   ]
  },
  {
   "cell_type": "code",
   "execution_count": null,
   "id": "748fa2d2-c3cf-483a-8543-fe3013688f66",
   "metadata": {},
   "outputs": [],
   "source": [
    "epot_mean = np.mean(epot)\n",
    "ekin_mean = np.mean(ekin)\n",
    "etot_mean = np.mean(etot)\n",
    "print(epot_mean, ekin_mean, etot_mean)"
   ]
  },
  {
   "cell_type": "markdown",
   "id": "9603608a-38b5-439a-b588-0d5f961ef7c3",
   "metadata": {},
   "source": [
    "We can now plot flucutations."
   ]
  },
  {
   "cell_type": "code",
   "execution_count": null,
   "id": "18237a1a-cadd-49f1-9b90-f7a0aa1bdde6",
   "metadata": {},
   "outputs": [],
   "source": [
    "plt.plot(t, etot - etot_mean, label=r\"$\\delta{}E_\\mathsf{tot}$\")\n",
    "plt.plot(t, epot - epot_mean, label=r\"$\\delta{}E_\\mathsf{pot}$\")\n",
    "plt.plot(t, ekin - ekin_mean, label=r\"$\\delta{}E_\\mathsf{kin}$\")\n",
    "plt.xlabel(r\"$t\\ /\\ \\mathsf{ps}$\")\n",
    "plt.ylabel(r\"$\\delta{}E\\ /\\ \\mathsf{kJ\\,mol^{-1}}$\")\n",
    "plt.legend(bbox_to_anchor=(1.05, 1), loc=\"upper left\", borderaxespad=0.0)\n",
    "plt.show()"
   ]
  },
  {
   "cell_type": "markdown",
   "id": "60c7d90d-a913-4938-a8cd-f4167a8db281",
   "metadata": {},
   "source": [
    "Such a plot makes it much easier to compare different types of energies.\n",
    "\n",
    "The mean of the squared fluctuations is called **variance**, $\\sigma^2$. For the the energies, we would write\n",
    "\n",
    "$$\n",
    "\\sigma^2_E = \\left<\\left(\\delta{}E\\right)^2\\right> = \\left<\\left(E-\\left<E\\right>\\right)^2\\right>\n",
    "$$\n",
    "\n",
    "The root of the variance is called **standard deviation**, $\\sigma$.\n",
    "\n",
    "**Variance and standard deviation quantify fluctuations.**\n",
    "\n",
    "(Note: Since we perform finite simulations, we only draw a sample from the distribution of energies. So the properties that we compute should actually be called sample mean, sample variance, sample standard deviation. )\n",
    "\n",
    "Numpy has convenient function to compute the variance and standard deviation of an array."
   ]
  },
  {
   "cell_type": "code",
   "execution_count": null,
   "id": "014a461b-4c93-425a-94d6-b05e44d7802d",
   "metadata": {},
   "outputs": [],
   "source": [
    "epot_var = np.var(epot)\n",
    "ekin_var = np.var(ekin)\n",
    "etot_var = np.var(etot)\n",
    "print(epot_var, ekin_var, etot_var)"
   ]
  },
  {
   "cell_type": "code",
   "execution_count": null,
   "id": "573fb771-9348-4dbe-aa3e-e175fe4b107a",
   "metadata": {},
   "outputs": [],
   "source": [
    "epot_std = np.std(epot)\n",
    "ekin_std = np.std(ekin)\n",
    "etot_std = np.std(etot)\n",
    "print(epot_std, ekin_std, etot_std)"
   ]
  },
  {
   "cell_type": "markdown",
   "id": "e3ab2a86-6918-43ee-b6fc-4402127e82b3",
   "metadata": {},
   "source": [
    "We can finally formalize our **first criterion for correct time integration**:\n",
    "\n",
    "$$\n",
    "\\sigma_{E_\\mathsf{tot}} \\ll \\sigma_{E_\\mathsf{pot}} \\approx \\sigma_{E_\\mathsf{kin}} \n",
    "$$\n",
    "\n",
    "<div class=\"alert alert-block alert-success\">\n",
    "Question: Why is $\\sigma_{E_\\mathsf{pot}} \\approx \\sigma_{E_\\mathsf{kin}}$? <b>Discuss!</b>?\n",
    "</div>\n"
   ]
  },
  {
   "cell_type": "markdown",
   "id": "47c3ab33-287a-4f3c-83e3-5879b1f740bd",
   "metadata": {},
   "source": [
    "Let's move to the second criterion.\n",
    "\n",
    "#### II) There should be no drift in any of the energies.\n",
    "\n",
    "An energy **drift** is a gradual change in the energy on time scales that are much slower than the typical (and expected) fluctuations of the energy. An easy way to identify a drift is to perform a **linear regression** of energy over time. \n",
    "\n",
    "Let's look at the total energy. We can perform a linear fit with numpy."
   ]
  },
  {
   "cell_type": "code",
   "execution_count": null,
   "id": "e6f6fcb5-cb78-4994-a327-9e6cc3ac8a7a",
   "metadata": {},
   "outputs": [],
   "source": [
    "# Fit a polynomial of degree 1: etot = a * t + b.\n",
    "a, b = np.polyfit(t, etot, 1)"
   ]
  },
  {
   "cell_type": "code",
   "execution_count": null,
   "id": "0fedcb27-10a5-4824-8522-a41033b77968",
   "metadata": {},
   "outputs": [],
   "source": [
    "plt.plot(t, etot, label=\"$E_\\mathsf{tot}$\")\n",
    "plt.plot(t, a * t + b, label=\"regression line\")\n",
    "plt.xlabel(r\"$t\\ /\\ \\mathsf{ps}$\")\n",
    "plt.ylabel(r\"$E\\ /\\ \\mathsf{kJ\\,mol^{-1}}$\")\n",
    "plt.legend(bbox_to_anchor=(1.05, 1), loc=\"upper left\", borderaxespad=0.0)\n",
    "plt.show()"
   ]
  },
  {
   "cell_type": "markdown",
   "id": "8150b60e-6d4a-48a0-b519-fe38a98a50b6",
   "metadata": {},
   "source": [
    "<div class=\"alert alert-block alert-success\">\n",
    "Ideally we would want the slope ($a$ in our example) to be zero, in which case we would have no drift. This is obviously not the case. Does this mean we did something wrong? <b>Discuss!</b>\n",
    "</div>"
   ]
  },
  {
   "cell_type": "markdown",
   "id": "cb0003a0-c6f3-4a74-a06f-649defffd86a",
   "metadata": {},
   "source": [
    "Answer: An energy drift is typically acceptable if it is smaller or comparable to the typical total energy fluctuations. It may also be acceptable if the accumulated energy change does not change the accessible region of the phase space very much."
   ]
  },
  {
   "cell_type": "markdown",
   "id": "216fc30a-4785-43b9-a47d-76a6a93be21a",
   "metadata": {},
   "source": [
    "#### III) The total energy fluctuations should grow linearly with the square of the time step.\n",
    "\n",
    "This is an intrinsic property of the Verlet family of integration algorithms and admittedly, it's hardly ever checked. We'll have a look at it, though.\n",
    "\n",
    "Let's run our MD with the following time steps:"
   ]
  },
  {
   "cell_type": "code",
   "execution_count": null,
   "id": "b595998d-8b33-4a7b-862e-a2dfd87d1d6a",
   "metadata": {},
   "outputs": [],
   "source": [
    "dts = np.array([1, 2, 5, 7, 10]) * 0.0001  # ps\n",
    "print(dts)"
   ]
  },
  {
   "cell_type": "code",
   "execution_count": null,
   "id": "32a8ed17-1d7c-40b9-ae60-538596ee96d1",
   "metadata": {},
   "outputs": [],
   "source": [
    "x0 = np.array([0.0, 0.11])\n",
    "nsteps = 1000\n",
    "\n",
    "# This empty list will be filled with the standard deviations of the total energy for each time step.\n",
    "etot_stds = []\n",
    "\n",
    "# Set dt to each value in dts and run the indented code.\n",
    "for dt in dts:\n",
    "    trj, epot, ekin, etot = md_morse_vv_energies(m, x0, nsteps, dt, r0, k, D)\n",
    "    etot_stds.append(np.std(etot))"
   ]
  },
  {
   "cell_type": "markdown",
   "id": "ee338597-809f-4e67-8ade-5c80867c7365",
   "metadata": {},
   "source": [
    "And now, we plot $\\sigma_{E_\\mathsf{tot}}$ against $\\delta{}t^2$."
   ]
  },
  {
   "cell_type": "code",
   "execution_count": null,
   "id": "295d88c8-835a-4755-a52f-b19ca61b3e8c",
   "metadata": {},
   "outputs": [],
   "source": [
    "plt.plot(dts ** 2, etot_stds, marker=\".\")\n",
    "plt.xlabel(r\"$\\delta{}t^2\\ /\\ \\mathsf{ps^2}$\")\n",
    "plt.ylabel(r\"$\\sigma_{E_\\mathsf{tot}}\\ /\\ \\mathsf{kJ\\,mol^{-1}}$\")\n",
    "plt.show()"
   ]
  },
  {
   "cell_type": "markdown",
   "id": "34e3e207-46ac-467b-9cd6-a1153ed9fae4",
   "metadata": {},
   "source": [
    "<div class=\"alert alert-block alert-success\">\n",
    "It's a line. Great!\n",
    "\n",
    "Now, play around with the values of dt and check when this relationship breaks. Is this the same value that you have identified in the beginning? <b>Discuss!</b>\n",
    "</div>"
   ]
  },
  {
   "cell_type": "markdown",
   "id": "4daeae18-3f63-4737-8312-55512abf1e8b",
   "metadata": {},
   "source": [
    "### Thermostatting\n",
    "\n",
    "#### Stochastic Thermostats\n",
    "\n",
    "We will implement only one very simple **stochastic thermostat** to learn how thermostatting influences the MD results that we have seen so far.\n",
    "\n",
    "Let's assume that our HF molecule is embedded in a **heat bath**. The heat bath molecules are not part of our simulation, so we don't compute the forces acting between them and our HF molecule. Instead, we will consider the effect of **random collisions** with heat bath molecules, by changing the velocities of the HF molecule atoms randomly during the simulation.\n",
    "\n",
    "#### Random Numbers\n",
    "\n",
    "Let's look at (pseudo) **random number generation**, first. It's actually quite easy. You can draw random numbers from the **normal distribution** using the `np.random.randn()` function. Without arguments, `np.random.randn()` returns one random number."
   ]
  },
  {
   "cell_type": "code",
   "execution_count": null,
   "id": "fe7e7099-a197-4259-98e7-bab07a7088d1",
   "metadata": {},
   "outputs": [],
   "source": [
    "np.random.randn()"
   ]
  },
  {
   "cell_type": "markdown",
   "id": "34ee66f3-94d2-48bf-bd5f-0558d92d5caa",
   "metadata": {},
   "source": [
    "With an integer argument, `n`, `np.random.randn(n)` returns $n$ random numbers as a numpy array."
   ]
  },
  {
   "cell_type": "code",
   "execution_count": null,
   "id": "b2167bcc-5a69-4ff2-8c01-92977d717904",
   "metadata": {},
   "outputs": [],
   "source": [
    "np.random.randn(10)"
   ]
  },
  {
   "cell_type": "markdown",
   "id": "bf60d359-a0c0-46d2-b75c-f18015f27a6a",
   "metadata": {},
   "source": [
    "We can specify the mean $\\mu$ and the standard deviation $\\sigma$ of the distribution by shifting and scaling it."
   ]
  },
  {
   "cell_type": "code",
   "execution_count": null,
   "id": "b813bc85-a193-4bfa-a525-bb45b8a919cf",
   "metadata": {},
   "outputs": [],
   "source": [
    "# Draw 20 random numbers from a normal distribution with mean, mu = 10,\n",
    "# and standard deviation, sigma = 0.5.\n",
    "mu = 10\n",
    "sigma = 0.5\n",
    "sigma * np.random.randn(10) + mu"
   ]
  },
  {
   "cell_type": "markdown",
   "id": "ae2cc383-d1d5-4523-b625-ee495cfb1c1d",
   "metadata": {},
   "source": [
    "#### Optional Recap: The Maxwell-Boltzmann Distribution"
   ]
  },
  {
   "cell_type": "markdown",
   "id": "ee56f67f-6948-4eac-8c33-365f62d02366",
   "metadata": {},
   "source": [
    "Before we implement a thermostat, let's recap what we have learned about the distribution of velocities in Lecture 02.\n",
    "\n",
    "We have learned that **atomic velocities are normally distributed in each dimension in condensed phases**. The mean of the corresponding distribution is zero and the standard deviation is equal to $\\sqrt{kT/m}$. Given the following data, generate 10000 random velocities for HF in one dimension, at $300\\ \\mathsf{K}$. Assign the result to a variable called `sample_vx`."
   ]
  },
  {
   "cell_type": "code",
   "execution_count": null,
   "id": "82a9694c-e5d4-482f-acbf-99179e176e1a",
   "metadata": {},
   "outputs": [],
   "source": [
    "kb = 8.31446261815324 / 1000.0  # kJ K^-1 mol^-1\n",
    "temp = 300.0\n",
    "m_hf = np.sum(m)\n",
    "# Fill in the blanks.\n",
    "sigma = np.sqrt(...)\n",
    "sample_vx = sigma * np.random.randn(10000)"
   ]
  },
  {
   "cell_type": "markdown",
   "id": "ef4d313e-2c23-4ffe-864b-0d8eb2482399",
   "metadata": {},
   "source": [
    "We can use pyplot to construct a histogram of those 10000 random numbers."
   ]
  },
  {
   "cell_type": "code",
   "execution_count": null,
   "id": "c5379618-9a3c-4c05-92bf-0fe4d6ece063",
   "metadata": {},
   "outputs": [],
   "source": [
    "plt.hist(sample_vx, bins=50)  # Assign each element in sample1 to one of 50 bins.\n",
    "plt.xlabel(r\"$v\\ /\\ \\mathsf{nm\\,ps^{-1}}$\")\n",
    "plt.ylabel(\"count\")\n",
    "plt.show()"
   ]
  },
  {
   "cell_type": "markdown",
   "id": "78f3947f-56b9-41c5-9090-bff0712715c0",
   "metadata": {},
   "source": [
    "Let's do this two more times. Construct two new random array, `sample_vy` and `sample_vz`."
   ]
  },
  {
   "cell_type": "code",
   "execution_count": null,
   "id": "6d1f9aa0-b8d8-49e1-908b-7e3d14eb8807",
   "metadata": {},
   "outputs": [],
   "source": [
    "# Create sample_vy and sample_vz in analogy to sample1."
   ]
  },
  {
   "cell_type": "markdown",
   "id": "51d377dd-f8c7-4e59-9b24-7583940147c9",
   "metadata": {},
   "source": [
    "Here's a histogram plot of all three samples together."
   ]
  },
  {
   "cell_type": "code",
   "execution_count": null,
   "id": "d7834762-12b0-4f33-928f-44e73d4dcea9",
   "metadata": {},
   "outputs": [],
   "source": [
    "plt.hist(sample_vx, bins=50, alpha=0.3)\n",
    "plt.hist(sample_vy, bins=50, alpha=0.3)\n",
    "plt.hist(sample_vz, bins=50, alpha=0.3)\n",
    "plt.xlabel(r\"$v\\ /\\ \\mathsf{nm\\,ps^{-1}}$\")\n",
    "plt.ylabel(\"count\")\n",
    "plt.show()"
   ]
  },
  {
   "cell_type": "markdown",
   "id": "81466b48-d368-4c85-8cc1-8fe7e50d2575",
   "metadata": {},
   "source": [
    "Let's look at the distribution of the magnitude of the velocity vector,\n",
    "\n",
    "$$\n",
    "v = \\sqrt{v_x^2+v_y^2 + v_z^2}\n",
    "$$\n",
    "\n",
    "We can use numpy to compute the magnitudes of the x, y, and z components of our random velocity samples."
   ]
  },
  {
   "cell_type": "code",
   "execution_count": null,
   "id": "3aebe83a-99dd-4b43-a386-522ecb253605",
   "metadata": {},
   "outputs": [],
   "source": [
    "sample_v = np.sqrt(sample_vx ** 2 + sample_vy ** 2 + sample_vz ** 2)"
   ]
  },
  {
   "cell_type": "markdown",
   "id": "6967847e-e732-452e-8d5e-be566009fbf6",
   "metadata": {},
   "source": [
    "Let's make a histogram."
   ]
  },
  {
   "cell_type": "code",
   "execution_count": null,
   "id": "c6389cce-cf75-473a-b812-962ee2560788",
   "metadata": {},
   "outputs": [],
   "source": [
    "plt.hist(sample_v, bins=50)\n",
    "plt.xlabel(r\"$v\\ /\\ \\mathsf{nm\\,ps^-1}$\")\n",
    "plt.ylabel(\"count\")\n",
    "plt.show()"
   ]
  },
  {
   "cell_type": "markdown",
   "id": "cf2e23e0-4184-42f9-a6a0-dcca98a8ac52",
   "metadata": {},
   "source": [
    "This is a histogram of 1000 samples taken from the Maxwell-Boltzmann distribution of velocities,\n",
    "\n",
    "$$\n",
    "p(v) = \\sqrt{\\frac{2}{\\pi}}\\left(\\frac{m}{kT}\\right)^{\\frac{3}{2}}v^2e^{-\\frac{mv^2}{2kT}}\\,.\n",
    "$$"
   ]
  },
  {
   "cell_type": "markdown",
   "id": "690c9f7c-766c-4e57-811b-34d41f0b0117",
   "metadata": {},
   "source": [
    "We can normalize the histogram to obtain a density estimate by using the `density = True` argument and compare it against the true Maxwell-Boltzmann distribution."
   ]
  },
  {
   "cell_type": "code",
   "execution_count": null,
   "id": "8728497f-6005-42fe-a7ee-cb92cf2ec99a",
   "metadata": {},
   "outputs": [],
   "source": [
    "plt.hist(sample_v, bins=50, density=True, label=\"sample\")\n",
    "plt.xlabel(r\"$v\\ /\\ \\mathsf{nm\\,ps^-1}$\")\n",
    "plt.ylabel(\"count\")\n",
    "\n",
    "# Compute the values of the Maxwell-Boltzmann distribution between 0 and 1.6 nm/ps.\n",
    "v = np.linspace(0, 1.6, 100)\n",
    "v2 = v ** 2\n",
    "mkt = m_hf / (kb * temp)\n",
    "mbd = np.sqrt(2.0 / np.pi) * mkt ** 1.5 * v2 * np.exp(-0.5 * mkt * v2)\n",
    "plt.plot(v, mbd, label=\"Maxwell-Boltzmann Distribution\")\n",
    "\n",
    "plt.legend()\n",
    "plt.show()"
   ]
  },
  {
   "cell_type": "markdown",
   "id": "ecd4c48a-8aed-40bc-8c79-44ea878445fb",
   "metadata": {},
   "source": [
    "#### Simple Stochastic Thermostat (Anderson)\n",
    "\n",
    "Let's implement the Anderson thermostat. In our version, we will draw new velocities from a normal distribution, every $N_v$ time steps. Here is a code snippet how this could be achieved.\n",
    "\n",
    "```\n",
    "def md(m, ..., nsteps, ..., temp, nv):\n",
    "    ...\n",
    "    kb = 8.31446261815324 / 1000.0  # kJ K^-1 mol^-1\n",
    "    sigma = np.sqrt(kb * temp / m)\n",
    "    ...\n",
    "    for i in range(nsteps):\n",
    "        ...\n",
    "        if i % nv == 0:\n",
    "            v = sigma * np.random.randn(2)\n",
    "        ...\n",
    "```\n",
    "\n",
    "The code construct `if i % nv:` marks the beginning of an *if*-block. The indented block of code following this statement is only executed, if the condition following the `if` keyword evaluates to `True`. Here, we make use of the modulo operator `%`, which returns the remainder of two numbers. For example:"
   ]
  },
  {
   "cell_type": "code",
   "execution_count": null,
   "id": "f321154f-5a56-494e-b39d-9cd3fac6b835",
   "metadata": {},
   "outputs": [],
   "source": [
    "print(0 % 10)\n",
    "print(1 % 10)\n",
    "print(9 % 10)\n",
    "print(10 % 10)\n",
    "print(11 % 10)"
   ]
  },
  {
   "cell_type": "markdown",
   "id": "fbdb4c30-544f-4117-8413-7b28d0cd2593",
   "metadata": {},
   "source": [
    "As you can see, the expression `i % nv == 0` is only true, if `i` equals multiples of `nv`.\n",
    "\n",
    "Armed with this knowledge, try to finish your final task. \n",
    "- Make a copy of `md_morse_vv_energies`. Name it `md_morse_vv_anderson_energies`.\n",
    "- Add the new arguments required for thermalization.\n",
    "- Add the definition of `k` and `sigma` to suitable place in the algorithm.\n",
    "- Add the if-construct to a suitable place in the algorithm."
   ]
  },
  {
   "cell_type": "code",
   "execution_count": null,
   "id": "c83a6730-6fe1-4606-a8e1-4640b0dba6a1",
   "metadata": {},
   "outputs": [],
   "source": [
    "# Add your implementation of md_morse_vv_anderson."
   ]
  },
  {
   "cell_type": "markdown",
   "id": "de6d7f61-cd71-4ffc-b07f-aa0fceedbd2b",
   "metadata": {},
   "source": [
    "Let's try it. \n",
    "\n",
    "<div class=\"alert alert-block alert-success\">\n",
    "    Start by looking at the trajectory.\n",
    "    Play around with nv, nsteps, and temp.\n",
    "    <b>Describe and discuss your observations!</b>\n",
    "</div>"
   ]
  },
  {
   "cell_type": "code",
   "execution_count": null,
   "id": "b96b7317-0fc8-4d78-9471-a65a8fab8f67",
   "metadata": {},
   "outputs": [],
   "source": [
    "x0 = np.array([0.0, 0.11])\n",
    "nsteps = 1000\n",
    "dt = 0.0005\n",
    "temp = 300.0  # Temperature in K.\n",
    "nv = 10  # Thermalization frequency.\n",
    "trj, epot, ekin, etot = md_morse_vv_anderson_energies(\n",
    "    m, x0, nsteps, dt, r0, k, D, temp, nv\n",
    ")\n",
    "\n",
    "t = np.arange(nsteps + 1) * dt\n",
    "plt.plot(t, trj)\n",
    "plt.xlabel(r\"$t\\ /\\ \\mathsf{ps}$\")\n",
    "plt.ylabel(r\"$r\\ /\\ \\mathsf{nm}$\")\n",
    "plt.show()"
   ]
  },
  {
   "cell_type": "markdown",
   "id": "067846e6-0fe0-4233-8de8-63ee1ad9fc91",
   "metadata": {},
   "source": [
    "<div class=\"alert alert-block alert-success\">\n",
    "    Now, let's look at energies. Again, play around with nv, nsteps, and temp.\n",
    "    <b>Describe and discuss your observations!</b>\n",
    "</div>"
   ]
  },
  {
   "cell_type": "code",
   "execution_count": null,
   "id": "f486ec21-4c80-4d31-bf54-8ac6364a651e",
   "metadata": {},
   "outputs": [],
   "source": [
    "x0 = np.array([0.0, 0.11])\n",
    "nsteps = 1000\n",
    "dt = 0.0005\n",
    "temp = 300.0  # Temperature in K.\n",
    "nv = 10  # Thermalization frequency.\n",
    "trj, epot, ekin, etot = md_morse_vv_anderson_energies(\n",
    "    m, x0, nsteps, dt, r0, k, D, temp, nv\n",
    ")\n",
    "\n",
    "t = np.arange(nsteps + 1) * dt\n",
    "plt.plot(t, etot, label=r\"$E_\\mathsf{tot}$\")\n",
    "plt.plot(t, epot, label=r\"$E_\\mathsf{pot}$\")\n",
    "plt.plot(t, ekin, label=r\"$E_\\mathsf{kin}$\")\n",
    "plt.xlabel(r\"$t\\ /\\ \\mathsf{ps}$\")\n",
    "plt.ylabel(r\"$E\\ /\\ \\mathsf{kJ\\,mol^{-1}}$\")\n",
    "plt.legend(bbox_to_anchor=(1.05, 1), loc=\"upper left\", borderaxespad=0.0)\n",
    "plt.show()"
   ]
  },
  {
   "cell_type": "markdown",
   "id": "4a93ecb7-d9b4-4195-805b-23c50f920929",
   "metadata": {},
   "source": [
    "## Outlook: Power Spectra\n",
    "\n",
    "In MD simulations, we obtain time series. Time series can be transformed to the frequency domain using a technique called Fourier transform.\n",
    "\n",
    "The squared norm of the Fourier transform of the velocity series is the spectral power density (**power spectrum**) of the system.\n",
    "\n",
    "$$\n",
    "P(f) = \\left|\\mathcal{F}\\left(v\\left(t\\right)\\right)\\right|^2\n",
    "$$\n",
    "\n",
    "The power spectrum contains all vibrations which occur within the system (i.e., all normal modes), regardless of whether they can be measured by a certain experiment. In other words, it contains all vibrations observed in IR and Raman spectroscopy, as well as so-called silent vibrations, which cannot be observed in any of those techniques. Consequently, there is no way to measure a power spectrum. However, those peaks that are visible in an experimental spectrum can be compared with the power spectrum.\n",
    "\n",
    "<div class=\"alert alert-block alert-success\">\n",
    "    Below, we compute the power spectrum of HF. We compare the results for the harmonic and the Morse potential. Do not look at the implementation of `power_spectrum`, unless you are absolutely curious about it. Focus on the plot, play around with the MD settings, describe your observations and <b>discuss</b>.\n",
    "</div>"
   ]
  },
  {
   "cell_type": "code",
   "execution_count": null,
   "id": "8c493fbe-d3f5-4bef-979e-e804da41f087",
   "metadata": {},
   "outputs": [],
   "source": [
    "def power_spectrum(x, dt):\n",
    "    # Here, we cheat: We reconstruct v from x using central differences.\n",
    "    v = 0.5 * (x[1:] - x[:-1]) / dt\n",
    "    # Compute the FFT frequencies.\n",
    "    f = np.fft.fftfreq(v.size, dt)\n",
    "    # Compute the FFT of the velocity signal.\n",
    "    vfft = np.fft.fft(v)\n",
    "    # Compute the spectral power density.\n",
    "    p = np.abs(vfft * np.conj(vfft))\n",
    "    return f, p\n",
    "\n",
    "\n",
    "# MD Settings.\n",
    "x0 = np.array([0.0, 0.11])\n",
    "nsteps = 100\n",
    "dt = 0.001\n",
    "\n",
    "# MD.\n",
    "xh = md_ho_vv(m, x0, nsteps, dt, r0, k)\n",
    "xm = md_morse_vv(m, x0, nsteps, dt, r0, k, D)\n",
    "\n",
    "# Analytical solutions.\n",
    "mu = m[0] * m[1] / (m[0] + m[1])\n",
    "f0h = np.sqrt(k / mu) / (2.0 * np.pi)\n",
    "f0m = np.sqrt(-(f0h ** 2) * (morse_potential(x0[1] - x0[0], r0, k, D) - D) / D)\n",
    "\n",
    "# Power spectra normalized to maximum peak height.\n",
    "f, ph = power_spectrum(xh, dt)\n",
    "f, pm = power_spectrum(xm, dt)\n",
    "ph /= np.max([ph, pm])\n",
    "pm /= np.max([ph, pm])\n",
    "\n",
    "# Plots.\n",
    "plt.axvline(f0h, color=\"black\", ls=\"dashed\", alpha=0.5, label=\"exact (HO)\")\n",
    "plt.axvline(f0m, color=\"black\", ls=\"dotted\", alpha=0.5, label=\"exact (MO)\")\n",
    "plt.axvline(2.0 * f0m, color=\"black\", ls=\"dotted\", alpha=0.5)\n",
    "plt.plot(f, ph, label=\"simulation (HO)\")\n",
    "plt.plot(f, pm, label=\"simulation (MO)\")\n",
    "plt.xlim(100, 300.0)\n",
    "plt.xlabel(r\"$f\\ /\\ \\mathsf{ps^{-1}}$\")\n",
    "plt.ylabel(\"intensity\")\n",
    "plt.legend(bbox_to_anchor=(1.05, 1), loc=\"upper left\", borderaxespad=0.0)\n",
    "plt.show()"
   ]
  }
 ],
 "metadata": {
  "kernelspec": {
   "display_name": "Python 3 (ipykernel)",
   "language": "python",
   "name": "python3"
  },
  "language_info": {
   "codemirror_mode": {
    "name": "ipython",
    "version": 3
   },
   "file_extension": ".py",
   "mimetype": "text/x-python",
   "name": "python",
   "nbconvert_exporter": "python",
   "pygments_lexer": "ipython3",
   "version": "3.10.2"
  }
 },
 "nbformat": 4,
 "nbformat_minor": 5
}
